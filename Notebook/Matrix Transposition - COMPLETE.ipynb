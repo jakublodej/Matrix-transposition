{
 "cells": [
  {
   "cell_type": "code",
   "execution_count": 1,
   "metadata": {},
   "outputs": [
    {
     "name": "stdout",
     "output_type": "stream",
     "text": [
      "Enter Number of Rows :3\n",
      "Enter number of Columns :3\n",
      "Entry in row: 1  column:  1\n",
      "1\n",
      "Entry in row: 1  column:  2\n",
      "2\n",
      "Entry in row: 1  column:  3\n",
      "3\n",
      "Entry in row: 2  column:  1\n",
      "4\n",
      "Entry in row: 2  column:  2\n",
      "5\n",
      "Entry in row: 2  column:  3\n",
      "6\n",
      "Entry in row: 3  column:  1\n",
      "7\n",
      "Entry in row: 3  column:  2\n",
      "8\n",
      "Entry in row: 3  column:  3\n",
      "9\n",
      "[[1, 2, 3], [4, 5, 6], [7, 8, 9]]\n",
      "Transpose it ? : Yes or No: y\n",
      "True\n",
      "[1, 4, 7]\n",
      "[2, 5, 8]\n",
      "[3, 6, 9]\n"
     ]
    }
   ],
   "source": [
    "m=int(input(\"Enter Number of Rows :\"))\n",
    "n=int(input(\"Enter number of Columns :\"))\n",
    "Mat=[]\n",
    "for i in range(0,n):\n",
    "    Mat.append([])\n",
    "for i in range (0,m):\n",
    "    for j in range(0,n):\n",
    "        Mat[i].append(j)\n",
    "        Mat[i][j]==0\n",
    "for i in range (0,m):\n",
    "    for j in range (0,n):\n",
    "        print ('Entry in row:',i+1, ' column: ',j+1)\n",
    "        Mat[i][j]=int(input())\n",
    "print(Mat)\n",
    "\n",
    "ask=input(\"Transpose it ? : Yes or No: \").lower().startswith('y')\n",
    "print (ask)\n",
    "if ask == True :\n",
    "    result = [[Mat[j][i] for j in range(len(Mat))] for i in range(len(Mat[0]))]\n",
    "\n",
    "    for r in result:\n",
    "        print(r)\n",
    "else:\n",
    "    pass\n"
   ]
  }
 ],
 "metadata": {
  "kernelspec": {
   "display_name": "Python 3",
   "language": "python",
   "name": "python3"
  },
  "language_info": {
   "codemirror_mode": {
    "name": "ipython",
    "version": 3
   },
   "file_extension": ".py",
   "mimetype": "text/x-python",
   "name": "python",
   "nbconvert_exporter": "python",
   "pygments_lexer": "ipython3",
   "version": "3.6.5"
  }
 },
 "nbformat": 4,
 "nbformat_minor": 2
}
